{
 "cells": [
  {
   "cell_type": "markdown",
   "metadata": {},
   "source": [
    "对于更多人的来说，快速跑通一个最简单的DEMO是更为普遍的需求， 而MCP的官方项目（https://github.com/modelcontextprotocol/python-sdk）说明绕了半天，调试并不顺利，并不利于快速体验上手。基于本人需求，选取了mcp中服务端和客户端使用http传输的方式，纯python代码，其它的不做探究。以下是整理后的操练教程："
   ]
  },
  {
   "cell_type": "markdown",
   "metadata": {},
   "source": [
    "## 安装mcp"
   ]
  },
  {
   "cell_type": "code",
   "execution_count": null,
   "metadata": {},
   "outputs": [],
   "source": [
    "pip install mcp"
   ]
  },
  {
   "cell_type": "markdown",
   "metadata": {},
   "source": [
    "## 定义一个mcp server"
   ]
  },
  {
   "cell_type": "code",
   "execution_count": null,
   "metadata": {},
   "outputs": [],
   "source": [
    "from mcp.server.fastmcp import FastMCP\n",
    "from datetime import datetime\n",
    "\n",
    "# 有状态服务端（维护会话状态）\n",
    "mcp = FastMCP(\"StatefulServer\")\n",
    "\n",
    "# 定义一个工具，返回当前日期时间格式化字符串\n",
    "@mcp.tool()\n",
    "def get_current_time() -> str:\n",
    "    return datetime.now().isoformat()\n",
    "\n",
    "# 以流式方式启动服务\n",
    "if __name__ == \"__main__\":\n",
    "    mcp.run(transport=\"streamable-http\")"
   ]
  },
  {
   "cell_type": "markdown",
   "metadata": {},
   "source": [
    "## 运行服务端"
   ]
  },
  {
   "cell_type": "markdown",
   "metadata": {},
   "source": [
    "\n",
    "python server.py # 直接运行\n",
    "输出：\n",
    "(mcp) E:\\Project\\mcp>python server.py\n",
    "\u001b[32mINFO\u001b[0m:     Started server process [\u001b[36m17748\u001b[0m]\n",
    "\u001b[32mINFO\u001b[0m:     Waiting for application startup.\n",
    "[05/23/25 12:11:07] INFO     StreamableHTTP session manager started                      streamable_http_manager.py:109\n",
    "\u001b[32mINFO\u001b[0m:     Application startup complete.\n",
    "\u001b[32mINFO\u001b[0m:     Uvicorn running on \u001b[1mhttp://127.0.0.1:8000\u001b[0m (Press CTRL+C to quit)\n",
    "\n",
    "\n",
    "mcp dev server.py  # 开发模式\n",
    "输出：\n",
    "(mcp) E:\\Project\\mcp>mcp dev server.py --with-editable .\n",
    "Starting MCP inspector...\n",
    "⚙️ Proxy server listening on port 6277\n",
    "🔍 MCP Inspector is up and running at http://127.0.0.1:6274 🚀\n",
    "打开 Inspector http://127.0.0.1:6274，将看到WEB调试页面\n",
    "\n",
    "\n",
    "\n",
    "mcp dev server.py --with pandas --with numpy # 加载科学计算\n",
    "mcp dev server.py --with-editable . # 挂载本地编辑器"
   ]
  },
  {
   "cell_type": "markdown",
   "metadata": {},
   "source": [
    "## 编写客户端"
   ]
  },
  {
   "cell_type": "code",
   "execution_count": null,
   "metadata": {},
   "outputs": [],
   "source": [
    "# client.py\n",
    "from mcp.client.streamable_http import streamablehttp_client\n",
    "from mcp import ClientSession\n",
    "import asyncio\n",
    "\n",
    "async def main():\n",
    "    # 连接到 MCP 服务端\n",
    "    async with streamablehttp_client(\"http://127.0.0.1:8000/mcp\") as (\n",
    "        read_stream,\n",
    "        write_stream,\n",
    "        _,\n",
    "    ):\n",
    "        # 创建客户端会话\n",
    "        async with ClientSession(read_stream, write_stream) as session:\n",
    "            # 初始化连接（必须）\n",
    "            await session.initialize()\n",
    "\n",
    "            # 调用服务端的 get_current_time 工具（无参数）\n",
    "            tool_result = await session.call_tool(\"get_current_time\", {})\n",
    "\n",
    "            # print(\"当前时间：\", tool_result)\n",
    "            print(\"当前时间：\", tool_result.content[0].text)\n",
    "\n",
    "\n",
    "if __name__ == \"__main__\":\n",
    "    asyncio.run(main())\n"
   ]
  },
  {
   "cell_type": "markdown",
   "metadata": {},
   "source": [
    "## 运行客户端"
   ]
  },
  {
   "cell_type": "markdown",
   "metadata": {},
   "source": [
    "python client.py"
   ]
  },
  {
   "cell_type": "markdown",
   "metadata": {},
   "source": [
    "## 不同状态的服务端"
   ]
  },
  {
   "cell_type": "code",
   "execution_count": null,
   "metadata": {},
   "outputs": [],
   "source": [
    "from mcp.server.fastmcp import FastMCP\n",
    "\n",
    "# 有状态对话式服务、保留会话记忆\n",
    "mcp = FastMCP(\"Stateful\")\n",
    "mcp.run(transport=\"streamable-http\")\n",
    "\n",
    "# 无状态 HTTP 工具服务（返回 SSE 流）\n",
    "mcp = FastMCP(\"Stateless\", stateless_http=True)\n",
    "mcp.run(transport=\"streamable-http\")\n",
    "\n",
    "# 无状态 HTTP 工具服务（返回标准 JSON）\n",
    "mcp = FastMCP(\"Stateless\", stateless_http=True, json_response=True)\n",
    "mcp.run(transport=\"streamable-http\")\n",
    "\n",
    "# transport=\"streamable-http\" 使用流式输出"
   ]
  },
  {
   "cell_type": "markdown",
   "metadata": {},
   "source": [
    "## 同时运行多个服务器"
   ]
  },
  {
   "cell_type": "code",
   "execution_count": null,
   "metadata": {},
   "outputs": [],
   "source": [
    "# echo.py\n",
    "from mcp.server.fastmcp import FastMCP\n",
    "\n",
    "mcp = FastMCP(name=\"EchoServer\", stateless_http=True)\n",
    "\n",
    "\n",
    "@mcp.tool(description=\"A simple echo tool\")\n",
    "def echo(message: str) -> str:\n",
    "    return f\"Echo: {message}\""
   ]
  },
  {
   "cell_type": "code",
   "execution_count": null,
   "metadata": {},
   "outputs": [],
   "source": [
    "# math1.py 如果像官方教程文件名为math.py将会与python内置函数同名出错\n",
    "from mcp.server.fastmcp import FastMCP\n",
    "\n",
    "mcp = FastMCP(name=\"MathServer\", stateless_http=True)\n",
    "\n",
    "\n",
    "@mcp.tool(description=\"A simple add tool\")\n",
    "def add_two(n: int) -> int:\n",
    "    return n + 2"
   ]
  },
  {
   "cell_type": "code",
   "execution_count": null,
   "metadata": {},
   "outputs": [],
   "source": [
    "# main.py # 对官方代码作了更正\n",
    "import contextlib\n",
    "from fastapi import FastAPI\n",
    "import echo\n",
    "import math1\n",
    "\n",
    "\n",
    "# Create a combined lifespan to manage both session managers\n",
    "@contextlib.asynccontextmanager\n",
    "async def lifespan(app: FastAPI):\n",
    "    async with contextlib.AsyncExitStack() as stack:\n",
    "        await stack.enter_async_context(echo.mcp.session_manager.run())\n",
    "        await stack.enter_async_context(math1.mcp.session_manager.run())\n",
    "        yield\n",
    "\n",
    "\n",
    "app = FastAPI(lifespan=lifespan)\n",
    "app.mount(\"/echo\", echo.mcp.streamable_http_app())\n",
    "app.mount(\"/math\", math1.mcp.streamable_http_app())\n",
    "\n",
    "if __name__ == \"__main__\":\n",
    "    import uvicorn\n",
    "    uvicorn.run(\"main:app\", host=\"0.0.0.0\", port=8000, reload=True)"
   ]
  },
  {
   "cell_type": "markdown",
   "metadata": {},
   "source": [
    "执行：\n",
    "python main.py"
   ]
  }
 ],
 "metadata": {
  "kernelspec": {
   "display_name": "mcp",
   "language": "python",
   "name": "python3"
  },
  "language_info": {
   "codemirror_mode": {
    "name": "ipython",
    "version": 3
   },
   "file_extension": ".py",
   "mimetype": "text/x-python",
   "name": "python",
   "nbconvert_exporter": "python",
   "pygments_lexer": "ipython3",
   "version": "3.11.11"
  }
 },
 "nbformat": 4,
 "nbformat_minor": 2
}
